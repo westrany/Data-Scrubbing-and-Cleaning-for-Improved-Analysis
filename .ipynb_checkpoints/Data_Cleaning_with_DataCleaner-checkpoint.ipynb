{
 "cells": [
  {
   "cell_type": "markdown",
   "id": "88a12cdd",
   "metadata": {},
   "source": [
    "# Data Scrubbing and Cleaning for Improved Analysis with DataCleaner  \n",
    "\n",
    "Check my Github for [this project's details](https://github.com/westrany/Data-Scrubbing-and-Cleaning-for-Improved-Analysis-with-DataCleaner/blob/main/README.md). More info on the chosen dataset has been [uploaded to Kaggle](https://www.kaggle.com/datasets/mariafitas/goodreads-small-dataset)."
   ]
  },
  {
   "cell_type": "markdown",
   "id": "1b10e21f",
   "metadata": {},
   "source": [
    "#### Libraries used "
   ]
  },
  {
   "cell_type": "code",
   "execution_count": 2,
   "id": "de9ec2ee",
   "metadata": {},
   "outputs": [],
   "source": [
    "import pandas as pd"
   ]
  },
  {
   "cell_type": "markdown",
   "id": "037fccf9",
   "metadata": {},
   "source": [
    "#### Load CSV Data"
   ]
  },
  {
   "cell_type": "code",
   "execution_count": 3,
   "id": "0598e7eb",
   "metadata": {},
   "outputs": [],
   "source": [
    "# For file in the same directory\n",
    "df = pd.read_csv('unclean_goodreads_library_export.csv')\n",
    "\n",
    "# If the CSV file is in a different directory, specify the path\n",
    "# df = pd.read_csv('/path/to/your_file.csv')\n",
    "\n",
    "# If the CSV file is hosted online, provide the URL\n",
    "# df = pd.read_csv('https://example.com/your_file.csv')"
   ]
  },
  {
   "cell_type": "markdown",
   "id": "61018c17",
   "metadata": {},
   "source": [
    "**Display Data**"
   ]
  },
  {
   "cell_type": "code",
   "execution_count": null,
   "id": "ae2d2576",
   "metadata": {},
   "outputs": [],
   "source": []
  }
 ],
 "metadata": {
  "kernelspec": {
   "display_name": "Python 3 (ipykernel)",
   "language": "python",
   "name": "python3"
  },
  "language_info": {
   "codemirror_mode": {
    "name": "ipython",
    "version": 3
   },
   "file_extension": ".py",
   "mimetype": "text/x-python",
   "name": "python",
   "nbconvert_exporter": "python",
   "pygments_lexer": "ipython3",
   "version": "3.9.13"
  }
 },
 "nbformat": 4,
 "nbformat_minor": 5
}
