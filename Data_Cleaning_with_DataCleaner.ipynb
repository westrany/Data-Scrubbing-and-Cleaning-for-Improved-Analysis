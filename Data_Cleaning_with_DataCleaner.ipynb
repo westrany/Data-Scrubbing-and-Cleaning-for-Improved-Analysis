{
 "cells": [
  {
   "cell_type": "markdown",
   "id": "88a12cdd",
   "metadata": {},
   "source": [
    "# Data Scrubbing and Cleaning for Improved Analysis with DataCleaner  \n",
    "\n",
    "Check my Github for [this project's details](https://github.com/westrany/Data-Scrubbing-and-Cleaning-for-Improved-Analysis-with-DataCleaner/blob/main/README.md). More info on the chosen dataset has been [uploaded to Kaggle](https://www.kaggle.com/datasets/mariafitas/goodreads-small-dataset)."
   ]
  },
  {
   "cell_type": "markdown",
   "id": "1b10e21f",
   "metadata": {},
   "source": [
    "#### Libraries used "
   ]
  },
  {
   "cell_type": "code",
   "execution_count": null,
   "id": "de9ec2ee",
   "metadata": {},
   "outputs": [],
   "source": [
    "import pandas as pd"
   ]
  },
  {
   "cell_type": "code",
   "execution_count": null,
   "id": "5745a616",
   "metadata": {},
   "outputs": [],
   "source": []
  }
 ],
 "metadata": {
  "kernelspec": {
   "display_name": "Python 3 (ipykernel)",
   "language": "python",
   "name": "python3"
  },
  "language_info": {
   "codemirror_mode": {
    "name": "ipython",
    "version": 3
   },
   "file_extension": ".py",
   "mimetype": "text/x-python",
   "name": "python",
   "nbconvert_exporter": "python",
   "pygments_lexer": "ipython3",
   "version": "3.9.13"
  }
 },
 "nbformat": 4,
 "nbformat_minor": 5
}
